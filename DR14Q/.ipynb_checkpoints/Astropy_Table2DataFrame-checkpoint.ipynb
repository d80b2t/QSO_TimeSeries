{
 "cells": [
  {
   "cell_type": "code",
   "execution_count": 23,
   "metadata": {},
   "outputs": [],
   "source": [
    "import numpy as np\n",
    "import pandas as pd\n",
    "\n",
    "import matplotlib.pyplot as plt\n",
    "\n",
    "from astropy.table import Table\n",
    "from astropy.io import ascii\n",
    "from astropy.io import fits\n",
    "\n",
    "from astropy.coordinates import SkyCoord\n",
    "from astropy import units"
   ]
  },
  {
   "cell_type": "code",
   "execution_count": 24,
   "metadata": {
    "collapsed": true
   },
   "outputs": [],
   "source": [
    "## Path and file of some WISE W4 data\n",
    "path =   '/cos_pc19a_npr/data/SDSS/DR14Q/'\n",
    "filename = 'DR14Q_pruned.fits'\n",
    "datafile= path+filename"
   ]
  },
  {
   "cell_type": "code",
   "execution_count": 37,
   "metadata": {},
   "outputs": [
    {
     "name": "stderr",
     "output_type": "stream",
     "text": [
      "WARNING: UnitsWarning: '-' did not parse as fits unit: Invalid character at col 0 [astropy.units.core]\n",
      "WARNING: UnitsWarning: '0.1nm' did not parse as fits unit: Numeric factor not supported by FITS [astropy.units.core]\n",
      "WARNING: UnitsWarning: 'nanomaggies' did not parse as fits unit: At col 0, Unit 'nanomaggies' not supported by the FITS standard.  [astropy.units.core]\n",
      "WARNING: UnitsWarning: 'nanomaggies-2' did not parse as fits unit: At col 0, Unit 'nanomaggies' not supported by the FITS standard.  [astropy.units.core]\n"
     ]
    }
   ],
   "source": [
    "t = Table.read(datafile, format='fits')"
   ]
  },
  {
   "cell_type": "code",
   "execution_count": 40,
   "metadata": {},
   "outputs": [
    {
     "data": {
      "text/plain": [
       "astropy.table.table.Table"
      ]
     },
     "execution_count": 40,
     "metadata": {},
     "output_type": "execute_result"
    }
   ],
   "source": [
    "type(t)"
   ]
  },
  {
   "cell_type": "code",
   "execution_count": 43,
   "metadata": {},
   "outputs": [
    {
     "data": {
      "text/plain": [
       "['SDSS_NAME',\n",
       " 'RA',\n",
       " 'DEC',\n",
       " 'THING_ID',\n",
       " 'PLATE',\n",
       " 'MJD',\n",
       " 'FIBERID',\n",
       " 'SPECTRO',\n",
       " 'Z',\n",
       " 'SOURCE_Z',\n",
       " 'Z_VI',\n",
       " 'Z_PIPE',\n",
       " 'Z_PIPE_ERR',\n",
       " 'ZWARNING',\n",
       " 'Z_PCA',\n",
       " 'Z_PCA_ERR',\n",
       " 'Z_CIV_ERR',\n",
       " 'Z_CIII_ERR',\n",
       " 'Z_MGII',\n",
       " 'Z_MGII_ERR',\n",
       " 'BOSS_TARGET1',\n",
       " 'ANCILLARY_TARGET1',\n",
       " 'ANCILLARY_TARGET2',\n",
       " 'EBOSS_TARGET0',\n",
       " 'EBOSS_TARGET1',\n",
       " 'EBOSS_TARGET2',\n",
       " 'N_SPEC_SDSS',\n",
       " 'N_SPEC_BOSS',\n",
       " 'N_SPEC',\n",
       " 'PLATE_DUPLICATE',\n",
       " 'MJD_DUPLICATE',\n",
       " 'FIBERID_DUPLICATE',\n",
       " 'SPECTRO_DUPLICATE',\n",
       " 'BHWHM_CIV',\n",
       " 'RHWHM_CIV',\n",
       " 'AMP_CIV',\n",
       " 'REWE_CIV',\n",
       " 'ERR_REWE_CIV',\n",
       " 'FWHM_CIII',\n",
       " 'BHWHM_CIII',\n",
       " 'RHWHM_CIII',\n",
       " 'AMP_CIII',\n",
       " 'REWE_CIII',\n",
       " 'ERR_REWE_CIII',\n",
       " 'FWHM_MGII',\n",
       " 'BHWHM_MGII',\n",
       " 'RHWHM_MGII',\n",
       " 'AMP_MGII',\n",
       " 'REWE_MGII',\n",
       " 'ERR_REWE_MGII',\n",
       " 'FWHM_HB',\n",
       " 'BHWHM_HB',\n",
       " 'RHWHM_HB',\n",
       " 'AMP_HB',\n",
       " 'REWE_HB',\n",
       " 'ERR_REWE_HB',\n",
       " 'FWHM_OIII4960',\n",
       " 'BHWHM_OIII4960',\n",
       " 'RHWHM_OIII4960',\n",
       " 'AMP_OIII4960',\n",
       " 'REWE_OIII4960',\n",
       " 'ERR_REWE_OIII4960',\n",
       " 'FWHM_OIII5009',\n",
       " 'BHWHM_OIII5009',\n",
       " 'RHWHM_OIII5009',\n",
       " 'AMP_OIII5009',\n",
       " 'REWE_OIII5009',\n",
       " 'ERR_REWE_OIII5009',\n",
       " 'BI_CIV',\n",
       " 'ERR_BI_CIV',\n",
       " 'RERUN_NUMBER',\n",
       " 'OBJ_ID',\n",
       " 'PSFFLUX',\n",
       " 'IVAR_PSFFLUX',\n",
       " 'PSFMAG',\n",
       " 'ERR_PSFMAG',\n",
       " 'EXTINCTION',\n",
       " 'GALEX_MATCHED',\n",
       " 'FUV',\n",
       " 'FUV_IVAR',\n",
       " 'NUV',\n",
       " 'NUV_IVAR',\n",
       " 'CC_FLAGS',\n",
       " 'PH_FLAG',\n",
       " 'UKIDSS_MATCHED',\n",
       " 'YFLUX',\n",
       " 'YFLUX_ERR',\n",
       " 'JFLUX',\n",
       " 'JFLUX_ERR',\n",
       " 'HFLUX',\n",
       " 'HFLUX_ERR',\n",
       " 'KFLUX',\n",
       " 'KFLUX_ERR']"
      ]
     },
     "execution_count": 43,
     "metadata": {},
     "output_type": "execute_result"
    }
   ],
   "source": [
    "#t.columns   # Dict of table columns (access by column name, index, or slice)\n",
    "t.colnames  # List of column names"
   ]
  },
  {
   "cell_type": "code",
   "execution_count": 44,
   "metadata": {},
   "outputs": [
    {
     "data": {
      "text/plain": [
       "OrderedDict([('EXTNAME', 'Joined'),\n",
       "             ('DATE-HDU', '2017-10-09T09:17:33'),\n",
       "             ('STILVERS', '3.2'),\n",
       "             ('STILCLAS', 'uk.ac.starlink.votable.FitsPlusTableWriter')])"
      ]
     },
     "execution_count": 44,
     "metadata": {},
     "output_type": "execute_result"
    }
   ],
   "source": [
    "t.meta      # Dict of meta-data\n"
   ]
  },
  {
   "cell_type": "code",
   "execution_count": 45,
   "metadata": {},
   "outputs": [
    {
     "data": {
      "text/plain": [
       "523450"
      ]
     },
     "execution_count": 45,
     "metadata": {},
     "output_type": "execute_result"
    }
   ],
   "source": [
    "len(t)"
   ]
  },
  {
   "cell_type": "code",
   "execution_count": 56,
   "metadata": {},
   "outputs": [],
   "source": [
    "singles   = t[t[\"N_SPEC\"] <2]\n",
    "doubles   = t[t[\"N_SPEC\"] ==2]\n",
    "multiples = t[t[\"N_SPEC\"] >2]\n",
    "repeats   = t[t[\"N_SPEC\"] >1]"
   ]
  },
  {
   "cell_type": "code",
   "execution_count": 63,
   "metadata": {},
   "outputs": [
    {
     "name": "stdout",
     "output_type": "stream",
     "text": [
      "No. of objects with::\n",
      "         a single spectra in the DR14Q is  515507\n",
      "    more than one spectra in the DR14Q is  7943\n",
      "           double spectra in the DR14Q is  5404\n",
      "         multiple spectra in the DR14Q is  2539\n"
     ]
    }
   ],
   "source": [
    "print('No. of objects with::')\n",
    "print('         a single spectra in the DR14Q is ', len(singles))\n",
    "print('    more than one spectra in the DR14Q is ', len(repeats))\n",
    "print('           double spectra in the DR14Q is ', len(doubles))\n",
    "print('         multiple spectra in the DR14Q is ', len(multiples))\n"
   ]
  },
  {
   "cell_type": "code",
   "execution_count": 75,
   "metadata": {},
   "outputs": [],
   "source": [
    "#doubles['MJD_DUPLICATE']\n",
    "mjd_multiples = multiples['MJD_DUPLICATE']\n",
    "        "
   ]
  },
  {
   "cell_type": "code",
   "execution_count": 81,
   "metadata": {},
   "outputs": [
    {
     "name": "stdout",
     "output_type": "stream",
     "text": [
      "<class 'astropy.table.table.Table'>\n",
      "<class 'astropy.table.table.Table'>\n",
      "<class 'astropy.table.column.Column'>\n"
     ]
    }
   ],
   "source": [
    "print(type(t))\n",
    "print(type(multiples))\n",
    "print(type(mjd_multiples))\n"
   ]
  },
  {
   "cell_type": "code",
   "execution_count": 85,
   "metadata": {},
   "outputs": [
    {
     "ename": "ValueError",
     "evalue": "Cannot convert a table with multi-dimensional columns to a pandas DataFrame",
     "output_type": "error",
     "traceback": [
      "\u001b[0;31m---------------------------------------------------------------------------\u001b[0m",
      "\u001b[0;31mValueError\u001b[0m                                Traceback (most recent call last)",
      "\u001b[0;32m<ipython-input-85-96d3ee51a627>\u001b[0m in \u001b[0;36m<module>\u001b[0;34m()\u001b[0m\n\u001b[0;32m----> 1\u001b[0;31m \u001b[0mdf\u001b[0m \u001b[0;34m=\u001b[0m \u001b[0mt\u001b[0m\u001b[0;34m.\u001b[0m\u001b[0mto_pandas\u001b[0m\u001b[0;34m(\u001b[0m\u001b[0;34m)\u001b[0m\u001b[0;34m\u001b[0m\u001b[0m\n\u001b[0m",
      "\u001b[0;32m~/astroconda/lib/python3.5/site-packages/astropy/table/table.py\u001b[0m in \u001b[0;36mto_pandas\u001b[0;34m(self)\u001b[0m\n\u001b[1;32m   2608\u001b[0m \u001b[0;34m\u001b[0m\u001b[0m\n\u001b[1;32m   2609\u001b[0m         \u001b[0;32mif\u001b[0m \u001b[0many\u001b[0m\u001b[0;34m(\u001b[0m\u001b[0mgetattr\u001b[0m\u001b[0;34m(\u001b[0m\u001b[0mcol\u001b[0m\u001b[0;34m,\u001b[0m \u001b[0;34m'ndim'\u001b[0m\u001b[0;34m,\u001b[0m \u001b[0;36m1\u001b[0m\u001b[0;34m)\u001b[0m \u001b[0;34m>\u001b[0m \u001b[0;36m1\u001b[0m \u001b[0;32mfor\u001b[0m \u001b[0mcol\u001b[0m \u001b[0;32min\u001b[0m \u001b[0mself\u001b[0m\u001b[0;34m.\u001b[0m\u001b[0mcolumns\u001b[0m\u001b[0;34m.\u001b[0m\u001b[0mvalues\u001b[0m\u001b[0;34m(\u001b[0m\u001b[0;34m)\u001b[0m\u001b[0;34m)\u001b[0m\u001b[0;34m:\u001b[0m\u001b[0;34m\u001b[0m\u001b[0m\n\u001b[0;32m-> 2610\u001b[0;31m             \u001b[0;32mraise\u001b[0m \u001b[0mValueError\u001b[0m\u001b[0;34m(\u001b[0m\u001b[0;34m\"Cannot convert a table with multi-dimensional columns to a pandas DataFrame\"\u001b[0m\u001b[0;34m)\u001b[0m\u001b[0;34m\u001b[0m\u001b[0m\n\u001b[0m\u001b[1;32m   2611\u001b[0m \u001b[0;34m\u001b[0m\u001b[0m\n\u001b[1;32m   2612\u001b[0m         \u001b[0mout\u001b[0m \u001b[0;34m=\u001b[0m \u001b[0mOrderedDict\u001b[0m\u001b[0;34m(\u001b[0m\u001b[0;34m)\u001b[0m\u001b[0;34m\u001b[0m\u001b[0m\n",
      "\u001b[0;31mValueError\u001b[0m: Cannot convert a table with multi-dimensional columns to a pandas DataFrame"
     ]
    }
   ],
   "source": [
    "## http://docs.astropy.org/en/latest/table/pandas.html\n",
    "df = t.to_pandas()"
   ]
  },
  {
   "cell_type": "code",
   "execution_count": 86,
   "metadata": {},
   "outputs": [
    {
     "data": {
      "text/plain": [
       "astropy.table.table.Table"
      ]
     },
     "execution_count": 86,
     "metadata": {},
     "output_type": "execute_result"
    }
   ],
   "source": [
    "type(t)"
   ]
  },
  {
   "cell_type": "code",
   "execution_count": null,
   "metadata": {
    "collapsed": true
   },
   "outputs": [],
   "source": []
  }
 ],
 "metadata": {
  "anaconda-cloud": {},
  "kernelspec": {
   "display_name": "Python [default]",
   "language": "python",
   "name": "python3"
  },
  "language_info": {
   "codemirror_mode": {
    "name": "ipython",
    "version": 3
   },
   "file_extension": ".py",
   "mimetype": "text/x-python",
   "name": "python",
   "nbconvert_exporter": "python",
   "pygments_lexer": "ipython3",
   "version": "3.5.2"
  }
 },
 "nbformat": 4,
 "nbformat_minor": 2
}
